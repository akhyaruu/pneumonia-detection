{
 "cells": [
  {
   "cell_type": "markdown",
   "metadata": {},
   "source": [
    "# Import Packages"
   ]
  },
  {
   "cell_type": "code",
   "execution_count": 1,
   "metadata": {},
   "outputs": [],
   "source": [
    "# suport\n",
    "import pandas as pd\n",
    "import numpy as np\n",
    "# import seaborn as sn\n",
    "from sklearn.model_selection import train_test_split\n",
    "# import matplotlib.pyplot as plt\n",
    "\n",
    "# model\n",
    "from sklearn.multiclass import OneVsRestClassifier\n",
    "from sklearn.svm import LinearSVC\n",
    "from sklearn import tree\n",
    "from sklearn.linear_model import LogisticRegression\n",
    "from sklearn.ensemble import GradientBoostingClassifier\n",
    "\n",
    "# evaluasi\n",
    "from sklearn import metrics\n",
    "from sklearn import model_selection\n",
    "from sklearn.metrics import precision_recall_fscore_support\n",
    "from sklearn.metrics import accuracy_score\n",
    "from sklearn.model_selection import cross_val_score\n",
    "from sklearn.model_selection import KFold\n",
    "from sklearn.metrics import confusion_matrix"
   ]
  },
  {
   "cell_type": "code",
   "execution_count": 10,
   "metadata": {},
   "outputs": [],
   "source": [
    "import warnings\n",
    "warnings.filterwarnings('ignore')"
   ]
  },
  {
   "cell_type": "markdown",
   "metadata": {},
   "source": [
    "# Persiapan"
   ]
  },
  {
   "cell_type": "code",
   "execution_count": 2,
   "metadata": {
    "tags": []
   },
   "outputs": [],
   "source": [
    "# membaca dataset\n",
    "dataset = pd.read_excel('dataset2.xlsx',converters={'Medical result（0 No；1 mild；2 severe）':int})\n",
    "\n",
    "# mengisi kolom yg kosong dengan 0\n",
    "col_set = dataset.columns\n",
    "for column in col_set :\n",
    "    dataset[column].fillna(0, inplace = True)\n",
    "\n",
    "# memisahkan kelas yang akan diklasifikasikan dengan fitur\n",
    "X = dataset.iloc[:,:-1]\n",
    "y = dataset['Medical result（0 No；1 mild；2 severe）']\n",
    "X_train, X_test, Y_train, Y_test = train_test_split(X, y, test_size=0.1, random_state=1)"
   ]
  },
  {
   "cell_type": "markdown",
   "metadata": {},
   "source": [
    "# Hasil Bawaan"
   ]
  },
  {
   "cell_type": "markdown",
   "metadata": {},
   "source": [
    "## Inisialisasi Model"
   ]
  },
  {
   "cell_type": "code",
   "execution_count": 78,
   "metadata": {},
   "outputs": [],
   "source": [
    "# Decision Tree Classifier\n",
    "model_tree = OneVsRestClassifier(tree.DecisionTreeClassifier())\n",
    "\n",
    "# Logistics Regression Classifier\n",
    "model_logistic = OneVsRestClassifier(LogisticRegression(penalty='l2'))\n",
    "\n",
    "# Gradient Boosting Decision Tree Classifier\n",
    "model_GBDT = OneVsRestClassifier(GradientBoostingClassifier(n_estimators=300))\n",
    "\n",
    "# Support Vector CLassifier\n",
    "model_SVC = OneVsRestClassifier(LinearSVC(random_state = 0))"
   ]
  },
  {
   "cell_type": "markdown",
   "metadata": {},
   "source": [
    "## Fitting dan Predict Model"
   ]
  },
  {
   "cell_type": "code",
   "execution_count": 79,
   "metadata": {},
   "outputs": [],
   "source": [
    "# Decision Tree Classifier\n",
    "model_tree.fit(X_train,Y_train)\n",
    "y_predict_tree = model_tree.predict(X_test)\n",
    "\n",
    "# Logistics Regression Classifier\n",
    "model_logistic.fit(X_train,Y_train)\n",
    "y_predict_logistic = model_logistic.predict(X_test)\n",
    "\n",
    "# Gradient Boosting Decision Tree Classifier\n",
    "model_GBDT.fit(X_train,Y_train)\n",
    "y_predict_GBDT = model_GBDT.predict(X_test)\n",
    "\n",
    "# Support Vector CLassifier\n",
    "model_SVC.fit(X_train,Y_train)\n",
    "y_predict_SVC = model_SVC.predict(X_test)"
   ]
  },
  {
   "cell_type": "markdown",
   "metadata": {},
   "source": [
    "## Evaluasi\n",
    "\n",
    "### Precision Recall Fscore dan Support"
   ]
  },
  {
   "cell_type": "code",
   "execution_count": 80,
   "metadata": {},
   "outputs": [
    {
     "data": {
      "text/plain": [
       "(0.8527596223674655, 0.8634085213032581, 0.8523703407424338, None)"
      ]
     },
     "execution_count": 80,
     "metadata": {},
     "output_type": "execute_result"
    }
   ],
   "source": [
    "# Decision Tree Classifier\n",
    "# precision_recall_fscore_support(Y_test, y_predict_tree, average=None)\n",
    "precision_recall_fscore_support(Y_test, y_predict_tree, average='macro')"
   ]
  },
  {
   "cell_type": "code",
   "execution_count": 81,
   "metadata": {},
   "outputs": [
    {
     "data": {
      "text/plain": [
       "(0.6722417840375586, 0.568671679197995, 0.5896276854282103, None)"
      ]
     },
     "execution_count": 81,
     "metadata": {},
     "output_type": "execute_result"
    }
   ],
   "source": [
    "# Logistics Regression Classifier\n",
    "# precision_recall_fscore_support(Y_test, y_predict_logistic, average=None)\n",
    "precision_recall_fscore_support(Y_test, y_predict_logistic, average='macro')"
   ]
  },
  {
   "cell_type": "code",
   "execution_count": 82,
   "metadata": {},
   "outputs": [
    {
     "data": {
      "text/plain": [
       "(0.9289891395154553, 0.9137218045112783, 0.9201821074257941, None)"
      ]
     },
     "execution_count": 82,
     "metadata": {},
     "output_type": "execute_result"
    }
   ],
   "source": [
    "# Gradient Boosting Decision Tree Classifier\n",
    "# precision_recall_fscore_support(Y_test, y_predict_GBDT, average=None)\n",
    "precision_recall_fscore_support(Y_test, y_predict_GBDT, average='macro')"
   ]
  },
  {
   "cell_type": "code",
   "execution_count": 83,
   "metadata": {},
   "outputs": [
    {
     "data": {
      "text/plain": [
       "(0.6711847389558233, 0.46723057644110266, 0.47883432384527164, None)"
      ]
     },
     "execution_count": 83,
     "metadata": {},
     "output_type": "execute_result"
    }
   ],
   "source": [
    "# Support Vector CLassifier\n",
    "# precision_recall_fscore_support(Y_test, y_predict_SVC, average=None)\n",
    "precision_recall_fscore_support(Y_test, y_predict_SVC, average='macro')"
   ]
  },
  {
   "cell_type": "markdown",
   "metadata": {},
   "source": [
    "### Akurasi"
   ]
  },
  {
   "cell_type": "code",
   "execution_count": 84,
   "metadata": {},
   "outputs": [],
   "source": [
    "acc = {'Decision Tree': np.mean(y_predict_tree == Y_test),'Logistics': np.mean(y_predict_logistic == Y_test), 'GBDT': np.mean(y_predict_GBDT == Y_test), 'SVC': np.mean(y_predict_SVC == Y_test)}"
   ]
  },
  {
   "cell_type": "code",
   "execution_count": 85,
   "metadata": {},
   "outputs": [
    {
     "data": {
      "text/plain": [
       "{'Decision Tree': 0.8736842105263158,\n",
       " 'Logistics': 0.6947368421052632,\n",
       " 'GBDT': 0.9263157894736842,\n",
       " 'SVC': 0.6526315789473685}"
      ]
     },
     "execution_count": 85,
     "metadata": {},
     "output_type": "execute_result"
    }
   ],
   "source": [
    "# nilai akurasi rata2 tiap kelas\n",
    "acc"
   ]
  },
  {
   "cell_type": "markdown",
   "metadata": {},
   "source": [
    "## Fscore"
   ]
  },
  {
   "cell_type": "code",
   "execution_count": 129,
   "metadata": {},
   "outputs": [
    {
     "name": "stdout",
     "output_type": "stream",
     "text": [
      "DT: 0.8523703407424338, LR: 0.5896276854282103, GBDT: 0.9201821074257941, SVC: 0.47883432384527164\n"
     ]
    }
   ],
   "source": [
    "(_, _, ftree, _) = precision_recall_fscore_support(Y_test, y_predict_tree, average='macro')\n",
    "(_, _, flog, _) = precision_recall_fscore_support(Y_test, y_predict_logistic, average='macro')\n",
    "(_, _, fgbdt, _) = precision_recall_fscore_support(Y_test, y_predict_GBDT, average='macro')\n",
    "(_, _, fsvc, _) = precision_recall_fscore_support(Y_test, y_predict_SVC, average='macro')\n",
    "\n",
    "print('DT: {}, LR: {}, GBDT: {}, SVC: {}'.format(ftree, flog, fgbdt, fsvc))"
   ]
  },
  {
   "cell_type": "markdown",
   "metadata": {},
   "source": [
    "### K-fold Cross Validation"
   ]
  },
  {
   "cell_type": "code",
   "execution_count": 86,
   "metadata": {},
   "outputs": [
    {
     "name": "stdout",
     "output_type": "stream",
     "text": [
      "Baseline: 85.26% (9.06%)\n"
     ]
    }
   ],
   "source": [
    "# Decision Tree Classifier\n",
    "kfold = KFold(n_splits=5, shuffle=True)\n",
    "results = cross_val_score(model_tree, X_test,Y_test, cv=kfold)\n",
    "print(\"Baseline: %.2f%% (%.2f%%)\" % (results.mean()*100, results.std()*100))"
   ]
  },
  {
   "cell_type": "code",
   "execution_count": 87,
   "metadata": {},
   "outputs": [
    {
     "name": "stdout",
     "output_type": "stream",
     "text": [
      "Baseline: 57.89% (14.89%)\n"
     ]
    }
   ],
   "source": [
    "kfold = KFold(n_splits=5, shuffle=True)\n",
    "results = cross_val_score(model_logistic, X_test,Y_test, cv=kfold)\n",
    "print(\"Baseline: %.2f%% (%.2f%%)\" % (results.mean()*100, results.std()*100))"
   ]
  },
  {
   "cell_type": "code",
   "execution_count": 88,
   "metadata": {},
   "outputs": [
    {
     "name": "stdout",
     "output_type": "stream",
     "text": [
      "Baseline: 87.37% (5.37%)\n"
     ]
    }
   ],
   "source": [
    "kfold = KFold(n_splits=5, shuffle=True)\n",
    "results = cross_val_score(model_GBDT, X_test,Y_test, cv=kfold)\n",
    "print(\"Baseline: %.2f%% (%.2f%%)\" % (results.mean()*100, results.std()*100))"
   ]
  },
  {
   "cell_type": "code",
   "execution_count": 89,
   "metadata": {},
   "outputs": [
    {
     "name": "stdout",
     "output_type": "stream",
     "text": [
      "Baseline: 43.16% (11.24%)\n"
     ]
    }
   ],
   "source": [
    "kfold = KFold(n_splits=5, shuffle=True)\n",
    "results = cross_val_score(model_SVC, X_test,Y_test, cv=kfold)\n",
    "print(\"Baseline: %.2f%% (%.2f%%)\" % (results.mean()*100, results.std()*100))"
   ]
  },
  {
   "cell_type": "markdown",
   "metadata": {},
   "source": [
    "### Confusion Matrix"
   ]
  },
  {
   "cell_type": "code",
   "execution_count": 90,
   "metadata": {},
   "outputs": [],
   "source": [
    "cm_tree = confusion_matrix(Y_test, y_predict_tree, labels=[0,1,2])\n",
    "cm_logistic = confusion_matrix(Y_test, y_predict_logistic, labels=[0,1,2])\n",
    "cm_GBDT = confusion_matrix(Y_test, y_predict_GBDT, labels=[0,1,2])\n",
    "cm_SVC = confusion_matrix(Y_test, y_predict_SVC, labels=[0,1,2])"
   ]
  },
  {
   "cell_type": "code",
   "execution_count": 91,
   "metadata": {},
   "outputs": [
    {
     "data": {
      "image/png": "[encoded data removed]",
      "text/plain": [
       "<Figure size 720x504 with 2 Axes>"
      ]
     },
     "metadata": {
      "needs_background": "light"
     },
     "output_type": "display_data"
    }
   ],
   "source": [
    "# Decision Tree\n",
    "df_cm = pd.DataFrame(cm_tree, index = [i for i in \"012\"],\n",
    "                  columns = [i for i in \"012\"])\n",
    "plt.figure(figsize = (10,7))\n",
    "ax = sn.heatmap(df_cm, annot=True)\n",
    "bottom, top = ax.get_ylim()\n",
    "ax.set_ylim(bottom + 0.5, top - 0.5)\n",
    "plt.title('Confusion Matrix for Decision Tree Model')\n",
    "plt.ylabel('True')\n",
    "plt.xlabel('Predicted')\n",
    "plt.savefig('confusion_matrix_tree_150', dpi = 150)\n",
    "plt.savefig('confusion_matrix_tree_600', dpi = 600)\n",
    "plt.show()"
   ]
  },
  {
   "cell_type": "code",
   "execution_count": 92,
   "metadata": {},
   "outputs": [
    {
     "data": {
      "image/png": "[encoded data removed]",
      "text/plain": [
       "<Figure size 720x504 with 2 Axes>"
      ]
     },
     "metadata": {
      "needs_background": "light"
     },
     "output_type": "display_data"
    }
   ],
   "source": [
    "# logistic Regression\n",
    "df_cm = pd.DataFrame(cm_logistic, index = [i for i in \"012\"],\n",
    "                  columns = [i for i in \"012\"])\n",
    "plt.figure(figsize = (10,7))\n",
    "ax = sn.heatmap(df_cm, annot=True)\n",
    "bottom, top = ax.get_ylim()\n",
    "ax.set_ylim(bottom + 0.5, top - 0.5)\n",
    "plt.title('Confusion Matrix for Logistic Regression')\n",
    "plt.ylabel('True')\n",
    "plt.xlabel('Predicted')\n",
    "plt.savefig('confusion_matrix_logistic_150', dpi = 150)\n",
    "plt.savefig('confusion_matrix_logistic_600', dpi = 600)\n",
    "plt.show()"
   ]
  },
  {
   "cell_type": "code",
   "execution_count": 93,
   "metadata": {},
   "outputs": [
    {
     "data": {
      "image/png": "[encoded data removed]",
      "text/plain": [
       "<Figure size 720x504 with 2 Axes>"
      ]
     },
     "metadata": {
      "needs_background": "light"
     },
     "output_type": "display_data"
    }
   ],
   "source": [
    "# GBDT\n",
    "df_cm = pd.DataFrame(cm_GBDT, index = [i for i in \"012\"],\n",
    "                  columns = [i for i in \"012\"])\n",
    "plt.figure(figsize = (10,7))\n",
    "ax = sn.heatmap(df_cm, annot=True)\n",
    "bottom, top = ax.get_ylim()\n",
    "ax.set_ylim(bottom + 0.5, top - 0.5)\n",
    "plt.title('Confusion Matrix for GBDT')\n",
    "plt.ylabel('True')\n",
    "plt.xlabel('Predicted')\n",
    "plt.savefig('confusion_matrix_GBDT_150', dpi = 150)\n",
    "plt.savefig('confusion_matrix_GBDT_600', dpi = 600)\n",
    "plt.show()"
   ]
  },
  {
   "cell_type": "code",
   "execution_count": 94,
   "metadata": {},
   "outputs": [
    {
     "data": {
      "image/png": "[encoded data removed]",
      "text/plain": [
       "<Figure size 720x504 with 2 Axes>"
      ]
     },
     "metadata": {
      "needs_background": "light"
     },
     "output_type": "display_data"
    }
   ],
   "source": [
    "# SVC\n",
    "df_cm = pd.DataFrame(cm_SVC, index = [i for i in \"012\"],\n",
    "                  columns = [i for i in \"012\"])\n",
    "plt.figure(figsize = (10,7))\n",
    "ax = sn.heatmap(df_cm, annot=True)\n",
    "bottom, top = ax.get_ylim()\n",
    "ax.set_ylim(bottom + 0.5, top - 0.5)\n",
    "plt.title('Confusion Matrix for SVC')\n",
    "plt.ylabel('True')\n",
    "plt.xlabel('Predicted')\n",
    "plt.savefig('confusion_matrix_SVC_150', dpi = 150)\n",
    "plt.savefig('confusion_matrix_SVC_600', dpi = 600)\n",
    "plt.show()"
   ]
  },
  {
   "cell_type": "markdown",
   "metadata": {},
   "source": [
    "# Hasil Percobaan"
   ]
  },
  {
   "cell_type": "markdown",
   "metadata": {},
   "source": [
    "## Import Package"
   ]
  },
  {
   "cell_type": "code",
   "execution_count": 3,
   "metadata": {},
   "outputs": [],
   "source": [
    "from sklearn.model_selection import GridSearchCV\n",
    "from sklearn.model_selection import RandomizedSearchCV\n",
    "import keras_tuner as kt"
   ]
  },
  {
   "cell_type": "markdown",
   "metadata": {},
   "source": [
    "## Setting Parameter"
   ]
  },
  {
   "cell_type": "code",
   "execution_count": 100,
   "metadata": {},
   "outputs": [],
   "source": [
    "paramtree = [{'criterion': ['gini', 'entropy'], 'max_depth': [10, 15, 20, 25, 30]}]\n",
    "paramlr = [{'solver': ['newton-cg', 'lbfgs', 'liblinear', 'sag', 'saga'], 'penalty': ['l1', 'l2', 'elasticnet', 'none'], 'C': [100, 10, 1.0, 0.1, 0.01]}]\n",
    "paramgbdt = [{'learning_rate': [0.001, 0.01, 0.1, 0.3], 'n_estimators': [10, 100, 1000]}]\n",
    "paramsvc = [{'C': [100, 10, 1.0, 0.1, 0.001]}]"
   ]
  },
  {
   "cell_type": "markdown",
   "metadata": {},
   "source": [
    "## -- Hyperband (Keras tuner)"
   ]
  },
  {
   "cell_type": "markdown",
   "metadata": {},
   "source": [
    "### Build Model"
   ]
  },
  {
   "cell_type": "code",
   "execution_count": 4,
   "metadata": {},
   "outputs": [],
   "source": [
    "def build_dt(hp):\n",
    "  model = tree.DecisionTreeClassifier(\n",
    "        criterion=hp.Choice('criterion', ['gini', 'entropy']),\n",
    "        max_depth=hp.Choice('max_depth', [10, 15, 20, 25, 30]))\n",
    "  return model\n",
    "\n",
    "def build_lr(hp):\n",
    "  model = LogisticRegression(\n",
    "        solver=hp.Choice('solver', ['newton-cg', 'lbfgs']),\n",
    "        penalty=hp.Choice('penalty', ['l2', 'none']),\n",
    "        C=hp.Choice('C', [100.01, 10.01, 1.01, 0.1, 0.01]))\n",
    "  return model\n",
    "\n",
    "def build_gbdt(hp):\n",
    "  model = GradientBoostingClassifier(\n",
    "        learning_rate=hp.Choice('learning_rate', [0.001, 0.01, 0.1, 0.3]),\n",
    "        n_estimators=hp.Choice('n_estimators', [10, 100, 1000]))\n",
    "  return model\n",
    "\n",
    "def build_svc(hp):\n",
    "  model = LinearSVC(\n",
    "        C=hp.Choice('C', [100.01, 10.01, 1.01, 0.1, 0.001]))\n",
    "  return model"
   ]
  },
  {
   "cell_type": "markdown",
   "metadata": {},
   "source": [
    "### Tuning Hyperband"
   ]
  },
  {
   "cell_type": "code",
   "execution_count": 5,
   "metadata": {},
   "outputs": [],
   "source": [
    "tunerdt = kt.tuners.SklearnTuner(\n",
    "    oracle=kt.oracles.HyperbandOracle(objective = kt.Objective('score', 'max')),\n",
    "    hypermodel=build_dt,\n",
    "    scoring=metrics.make_scorer(metrics.accuracy_score),\n",
    "    cv=model_selection.StratifiedKFold(5),\n",
    "    directory='.',\n",
    "    overwrite=True)\n",
    "\n",
    "tunerlr = kt.tuners.SklearnTuner(\n",
    "    oracle=kt.oracles.HyperbandOracle(objective = kt.Objective('score', 'max')),\n",
    "    hypermodel=build_lr,\n",
    "    scoring=metrics.make_scorer(metrics.accuracy_score),\n",
    "    cv=model_selection.StratifiedKFold(5),\n",
    "    directory='.',\n",
    "    overwrite=True)\n",
    "\n",
    "tunergbdt = kt.tuners.SklearnTuner(\n",
    "    oracle=kt.oracles.HyperbandOracle(objective = kt.Objective('score', 'max')),\n",
    "    hypermodel=build_gbdt,\n",
    "    scoring=metrics.make_scorer(metrics.accuracy_score),\n",
    "    cv=model_selection.StratifiedKFold(5),\n",
    "    directory='.',\n",
    "    overwrite=True)\n",
    "\n",
    "tunersvc = kt.tuners.SklearnTuner(\n",
    "    oracle=kt.oracles.HyperbandOracle(objective = kt.Objective('score', 'max')),\n",
    "    hypermodel=build_svc,\n",
    "    scoring=metrics.make_scorer(metrics.accuracy_score),\n",
    "    cv=model_selection.StratifiedKFold(5),\n",
    "    directory='.',\n",
    "    overwrite=True)"
   ]
  },
  {
   "cell_type": "markdown",
   "metadata": {},
   "source": [
    "### Mendapatkan Model dengan Hyperparameter Terbaik"
   ]
  },
  {
   "cell_type": "code",
   "execution_count": 6,
   "metadata": {},
   "outputs": [
    {
     "name": "stdout",
     "output_type": "stream",
     "text": [
      "Trial 5 Complete [00h 00m 01s]\n",
      "score: 0.6865497076023391\n",
      "\n",
      "Best score So Far: 0.6865497076023391\n",
      "Total elapsed time: 00h 00m 08s\n",
      "INFO:tensorflow:Oracle triggered exit\n"
     ]
    }
   ],
   "source": [
    "def get_model(X_train, y_train):\n",
    "    all_tuner = [tunerdt, tunerlr, tunergbdt, tunersvc]\n",
    "    allmodel = []\n",
    "    for tuner in all_tuner:\n",
    "        tuner.search(X_train, y_train)\n",
    "        best_hp = tuner.get_best_hyperparameters()[0]\n",
    "        model = tuner.hypermodel.build(best_hp)\n",
    "        allmodel.append(model)\n",
    "        \n",
    "    return allmodel\n",
    "\n",
    "\n",
    "dthb, lrhb, gbdthb, svchb = get_model(X_train.to_numpy(), Y_train.to_numpy())"
   ]
  },
  {
   "cell_type": "markdown",
   "metadata": {},
   "source": [
    "### Fitting Model"
   ]
  },
  {
   "cell_type": "code",
   "execution_count": 7,
   "metadata": {},
   "outputs": [
    {
     "name": "stderr",
     "output_type": "stream",
     "text": [
      "C:\\Users\\h\\anaconda3\\lib\\site-packages\\sklearn\\svm\\_base.py:985: ConvergenceWarning: Liblinear failed to converge, increase the number of iterations.\n",
      "  warnings.warn(\"Liblinear failed to converge, increase \"\n"
     ]
    }
   ],
   "source": [
    "dt_hb = dthb.fit(X_train, Y_train)\n",
    "hasiltreehb = dt_hb.predict(X_test)\n",
    "\n",
    "lr_hb = lrhb.fit(X_train, Y_train)\n",
    "hasillogistichb = lr_hb.predict(X_test) \n",
    "\n",
    "gbdt_hb = gbdthb.fit(X_train, Y_train)\n",
    "hasilgbdthb = gbdt_hb.predict(X_test)\n",
    "\n",
    "svc_hb = svchb.fit(X_train, Y_train)\n",
    "hasilsvchb = svc_hb.predict(X_test)"
   ]
  },
  {
   "cell_type": "markdown",
   "metadata": {},
   "source": [
    "### Akurasi"
   ]
  },
  {
   "cell_type": "code",
   "execution_count": 8,
   "metadata": {},
   "outputs": [
    {
     "data": {
      "text/plain": [
       "{'Decision Tree': 0.8947368421052632,\n",
       " 'Logistics': 0.9473684210526315,\n",
       " 'GBDT': 0.9157894736842105,\n",
       " 'SVC': 0.7157894736842105}"
      ]
     },
     "execution_count": 8,
     "metadata": {},
     "output_type": "execute_result"
    }
   ],
   "source": [
    "acg = {'Decision Tree': np.mean(hasiltreehb == Y_test),'Logistics': np.mean(hasillogistichb == Y_test), 'GBDT': np.mean(hasilgbdthb == Y_test), 'SVC': np.mean(hasilsvchb == Y_test)}\n",
    "acg"
   ]
  },
  {
   "cell_type": "markdown",
   "metadata": {},
   "source": [
    "### F-score"
   ]
  },
  {
   "cell_type": "code",
   "execution_count": 9,
   "metadata": {},
   "outputs": [
    {
     "name": "stdout",
     "output_type": "stream",
     "text": [
      "DT: 0.8872053872053871, LR: 0.9429083951207845, GBDT: 0.9100529100529101, SVC: 0.5918977610553698\n"
     ]
    }
   ],
   "source": [
    "(_, _, ftreehb, _) = precision_recall_fscore_support(Y_test, hasiltreehb, average='macro')\n",
    "(_, _, floghb, _) = precision_recall_fscore_support(Y_test, hasillogistichb, average='macro')\n",
    "(_, _, fgbdthb, _) = precision_recall_fscore_support(Y_test, hasilgbdthb, average='macro')\n",
    "(_, _, fsvchb, _) = precision_recall_fscore_support(Y_test, hasilsvchb, average='macro')\n",
    "\n",
    "print('DT: {}, LR: {}, GBDT: {}, SVC: {}'.format(ftreehb, floghb, fgbdthb, fsvchb))"
   ]
  },
  {
   "cell_type": "markdown",
   "metadata": {},
   "source": [
    "## -- Grid Search"
   ]
  },
  {
   "cell_type": "code",
   "execution_count": 101,
   "metadata": {},
   "outputs": [
    {
     "data": {
      "text/plain": [
       "GridSearchCV(estimator=LinearSVC(),\n",
       "             param_grid=[{'C': [100, 10, 1.0, 0.1, 0.001]}],\n",
       "             scoring='accuracy')"
      ]
     },
     "execution_count": 101,
     "metadata": {},
     "output_type": "execute_result"
    }
   ],
   "source": [
    "gs1 = GridSearchCV(tree.DecisionTreeClassifier(), paramtree, scoring='accuracy')\n",
    "gs1.fit(X_train, Y_train) # DT\n",
    "\n",
    "gs2 = GridSearchCV(LogisticRegression(), paramlr, scoring='accuracy')\n",
    "gs2.fit(X_train, Y_train) # LR\n",
    "\n",
    "gs3 = GridSearchCV(GradientBoostingClassifier(), paramgbdt, scoring='accuracy')\n",
    "gs3.fit(X_train, Y_train) # GBDT\n",
    "\n",
    "gs4 = GridSearchCV(LinearSVC(), paramsvc, scoring='accuracy')\n",
    "gs4.fit(X_train, Y_train) # SVC"
   ]
  },
  {
   "cell_type": "markdown",
   "metadata": {},
   "source": [
    "### Parameter Terbaik"
   ]
  },
  {
   "cell_type": "code",
   "execution_count": 102,
   "metadata": {},
   "outputs": [
    {
     "name": "stdout",
     "output_type": "stream",
     "text": [
      "{'criterion': 'entropy', 'max_depth': 30}\n",
      "{'C': 1.0, 'penalty': 'l2', 'solver': 'newton-cg'}\n",
      "{'learning_rate': 0.01, 'n_estimators': 1000}\n",
      "{'C': 0.001}\n"
     ]
    }
   ],
   "source": [
    "print(gs1.best_params_) # DT\n",
    "print(gs2.best_params_) # LR\n",
    "print(gs3.best_params_) # GBDT\n",
    "print(gs4.best_params_) # SVC"
   ]
  },
  {
   "cell_type": "markdown",
   "metadata": {},
   "source": [
    "### Inisialisasi Model"
   ]
  },
  {
   "cell_type": "code",
   "execution_count": 118,
   "metadata": {},
   "outputs": [],
   "source": [
    "treegs = OneVsRestClassifier(tree.DecisionTreeClassifier(criterion='entropy', max_depth=30)).fit(X_train,Y_train)\n",
    "hasiltreegs = treegs.predict(X_test) # DT\n",
    "\n",
    "logisticgs = OneVsRestClassifier(LogisticRegression(C=1.0, penalty='l2', solver='newton-cg')).fit(X_train,Y_train)\n",
    "hasillogisticgs = logisticgs.predict(X_test) # LR\n",
    "\n",
    "gbdtgs = OneVsRestClassifier(GradientBoostingClassifier(learning_rate=0.01, n_estimators=1000)).fit(X_train,Y_train)\n",
    "hasilgbdtgs = gbdtgs.predict(X_test) # GBDT\n",
    "\n",
    "svcgs = OneVsRestClassifier(LinearSVC(C=0.001)).fit(X_train,Y_train)\n",
    "hasilsvcgs = svcgs.predict(X_test) # SVC"
   ]
  },
  {
   "cell_type": "markdown",
   "metadata": {},
   "source": [
    "### Akurasi"
   ]
  },
  {
   "cell_type": "code",
   "execution_count": 123,
   "metadata": {},
   "outputs": [],
   "source": [
    "acg = {'Decision Tree': np.mean(hasiltreegs == Y_test),'Logistics': np.mean(hasillogisticgs == Y_test), 'GBDT': np.mean(hasilgbdtgs == Y_test), 'SVC': np.mean(hasilsvcgs == Y_test)}"
   ]
  },
  {
   "cell_type": "code",
   "execution_count": 124,
   "metadata": {},
   "outputs": [
    {
     "data": {
      "text/plain": [
       "{'Decision Tree': 0.8842105263157894,\n",
       " 'Logistics': 0.9157894736842105,\n",
       " 'GBDT': 0.9263157894736842,\n",
       " 'SVC': 0.7052631578947368}"
      ]
     },
     "execution_count": 124,
     "metadata": {},
     "output_type": "execute_result"
    }
   ],
   "source": [
    "acg"
   ]
  },
  {
   "cell_type": "markdown",
   "metadata": {},
   "source": [
    "### F-score"
   ]
  },
  {
   "cell_type": "code",
   "execution_count": 125,
   "metadata": {},
   "outputs": [
    {
     "name": "stdout",
     "output_type": "stream",
     "text": [
      "DT: 0.8655819193813423, LR: 0.9037514209928004, GBDT: 0.9217007705379799, SVC: 0.5811334590404358\n"
     ]
    }
   ],
   "source": [
    "(_, _, ftreegs, _) = precision_recall_fscore_support(Y_test, hasiltreegs, average='macro')\n",
    "(_, _, floggs, _) = precision_recall_fscore_support(Y_test, hasillogisticgs, average='macro')\n",
    "(_, _, fgbdtgs, _) = precision_recall_fscore_support(Y_test, hasilgbdtgs, average='macro')\n",
    "(_, _, fsvcgs, _) = precision_recall_fscore_support(Y_test, hasilsvcgs, average='macro')\n",
    "\n",
    "print('DT: {}, LR: {}, GBDT: {}, SVC: {}'.format(ftreegs, floggs, fgbdtgs, fsvcgs))"
   ]
  },
  {
   "cell_type": "markdown",
   "metadata": {},
   "source": [
    "## -- Random Search"
   ]
  },
  {
   "cell_type": "code",
   "execution_count": 107,
   "metadata": {},
   "outputs": [
    {
     "data": {
      "text/plain": [
       "RandomizedSearchCV(estimator=LinearSVC(),\n",
       "                   param_distributions=[{'C': [100, 10, 1.0, 0.1, 0.001]}],\n",
       "                   scoring='accuracy')"
      ]
     },
     "execution_count": 107,
     "metadata": {},
     "output_type": "execute_result"
    }
   ],
   "source": [
    "rs1 = RandomizedSearchCV(tree.DecisionTreeClassifier(), paramtree, scoring='accuracy')\n",
    "rs1.fit(X_train, Y_train) # DT\n",
    "\n",
    "rs2 = RandomizedSearchCV(LogisticRegression(), paramlr, scoring='accuracy')\n",
    "rs2.fit(X_train, Y_train) # LR\n",
    "\n",
    "rs3 = RandomizedSearchCV(GradientBoostingClassifier(), paramgbdt, scoring='accuracy')\n",
    "rs3.fit(X_train, Y_train) # GBDT\n",
    "\n",
    "rs4 = RandomizedSearchCV(LinearSVC(), paramsvc, scoring='accuracy')\n",
    "rs4.fit(X_train, Y_train) # SVC"
   ]
  },
  {
   "cell_type": "markdown",
   "metadata": {},
   "source": [
    "### Parameter Terbaik"
   ]
  },
  {
   "cell_type": "code",
   "execution_count": 108,
   "metadata": {},
   "outputs": [
    {
     "name": "stdout",
     "output_type": "stream",
     "text": [
      "{'max_depth': 20, 'criterion': 'entropy'}\n",
      "{'solver': 'liblinear', 'penalty': 'l1', 'C': 100}\n",
      "{'n_estimators': 10, 'learning_rate': 0.3}\n",
      "{'C': 0.001}\n"
     ]
    }
   ],
   "source": [
    "print(rs1.best_params_) # DT\n",
    "print(rs2.best_params_) # LR\n",
    "print(rs3.best_params_) # GBDT\n",
    "print(rs4.best_params_) # SVC"
   ]
  },
  {
   "cell_type": "code",
   "execution_count": 122,
   "metadata": {},
   "outputs": [],
   "source": [
    "treers = OneVsRestClassifier(tree.DecisionTreeClassifier(criterion='entropy', max_depth=20)).fit(X_train,Y_train)\n",
    "hasiltreers = treers.predict(X_test) # DT\n",
    "\n",
    "logisticrs = OneVsRestClassifier(LogisticRegression(C=100, penalty='l1', solver='liblinear')).fit(X_train,Y_train)\n",
    "hasillogisticrs = logisticrs.predict(X_test) # LR\n",
    "\n",
    "gbdtrs = OneVsRestClassifier(GradientBoostingClassifier(learning_rate=0.3, n_estimators=10)).fit(X_train,Y_train)\n",
    "hasilgbdtrs = gbdtrs.predict(X_test) # GBDT\n",
    "\n",
    "svcrs = OneVsRestClassifier(LinearSVC(C=0.001)).fit(X_train,Y_train)\n",
    "hasilsvcrs = svcrs.predict(X_test) # SVC"
   ]
  },
  {
   "cell_type": "markdown",
   "metadata": {},
   "source": [
    "### Akurasi"
   ]
  },
  {
   "cell_type": "code",
   "execution_count": 126,
   "metadata": {},
   "outputs": [],
   "source": [
    "acr = {'Decision Tree': np.mean(hasiltreers == Y_test),'Logistics': np.mean(hasillogisticrs == Y_test), 'GBDT': np.mean(hasilgbdtrs == Y_test), 'SVC': np.mean(hasilsvcrs == Y_test)}"
   ]
  },
  {
   "cell_type": "code",
   "execution_count": 127,
   "metadata": {},
   "outputs": [
    {
     "data": {
      "text/plain": [
       "{'Decision Tree': 0.8315789473684211,\n",
       " 'Logistics': 0.9263157894736842,\n",
       " 'GBDT': 0.9157894736842105,\n",
       " 'SVC': 0.6842105263157895}"
      ]
     },
     "execution_count": 127,
     "metadata": {},
     "output_type": "execute_result"
    }
   ],
   "source": [
    "acr"
   ]
  },
  {
   "cell_type": "markdown",
   "metadata": {},
   "source": [
    "### F-score"
   ]
  },
  {
   "cell_type": "code",
   "execution_count": 128,
   "metadata": {},
   "outputs": [
    {
     "name": "stdout",
     "output_type": "stream",
     "text": [
      "DT: 0.8077441077441078, LR: 0.920784712825791, GBDT: 0.9100529100529101, SVC: 0.5606201550387596\n"
     ]
    }
   ],
   "source": [
    "(_, _, ftreers, _) = precision_recall_fscore_support(Y_test, hasiltreers, average='macro')\n",
    "(_, _, flogrs, _) = precision_recall_fscore_support(Y_test, hasillogisticrs, average='macro')\n",
    "(_, _, fgbdtrs, _) = precision_recall_fscore_support(Y_test, hasilgbdtrs, average='macro')\n",
    "(_, _, fsvcrs, _) = precision_recall_fscore_support(Y_test, hasilsvcrs, average='macro')\n",
    "\n",
    "print('DT: {}, LR: {}, GBDT: {}, SVC: {}'.format(ftreers, flogrs, fgbdtrs, fsvcrs))"
   ]
  }
 ],
 "metadata": {
  "kernelspec": {
   "display_name": "Python 3 (ipykernel)",
   "language": "python",
   "name": "python3"
  },
  "language_info": {
   "codemirror_mode": {
    "name": "ipython",
    "version": 3
   },
   "file_extension": ".py",
   "mimetype": "text/x-python",
   "name": "python",
   "nbconvert_exporter": "python",
   "pygments_lexer": "ipython3",
   "version": "3.8.5"
  }
 },
 "nbformat": 4,
 "nbformat_minor": 2
}
